{
  "nbformat": 4,
  "nbformat_minor": 0,
  "metadata": {
    "colab": {
      "provenance": []
    },
    "kernelspec": {
      "name": "python3",
      "display_name": "Python 3"
    },
    "language_info": {
      "name": "python"
    }
  },
  "cells": [
    {
      "cell_type": "markdown",
      "source": [
        "4) Write a function to return pairs of bigrams from a sentence\n",
        "Note- This is not a NLP question. It can be easily done using loops and other internal data structures in Python"
      ],
      "metadata": {
        "id": "v2kjT8vSHkeY"
      }
    },
    {
      "cell_type": "markdown",
      "source": [
        "Write a function which takes in a sentence and returns a list of bigrams without NLP."
      ],
      "metadata": {
        "id": "37fJb2kOFsTn"
      }
    },
    {
      "cell_type": "code",
      "source": [
        "def generate_bigram_pairs_without_nlp(sentence):\n",
        "    # Split the sentence into words\n",
        "    words = sentence.split()\n",
        "    # Initialize an empty list to store the bigram pairs\n",
        "    bigram_pairs = []\n",
        "    # Iterate through the words and create bigram pairs\n",
        "    for i in range(len(words) - 1):\n",
        "        bigram = (words[i], words[i + 1])\n",
        "        bigram_pairs.append(bigram)\n",
        "    return bigram_pairs"
      ],
      "metadata": {
        "id": "30wpfxsxFwb9"
      },
      "execution_count": 8,
      "outputs": []
    },
    {
      "cell_type": "code",
      "source": [
        "#creating driver function\n",
        "if __name__==\"__main__\":\n",
        "  # Example input\n",
        "  my_input_text = \"Covid 19 has destroyed peace of mind of people who don't like WFH\"\n",
        "  # Generate bigram pairs\n",
        "  bigram_ouput = generate_bigram_pairs_without_nlp(my_input_text)\n",
        "  # Print the output\n",
        "  print(f\"The output of bigrams are {bigram_ouput}\")\n"
      ],
      "metadata": {
        "colab": {
          "base_uri": "https://localhost:8080/"
        },
        "id": "7KPDHOpiGC3e",
        "outputId": "3c625d72-7408-4243-e30d-18e19c266167"
      },
      "execution_count": 10,
      "outputs": [
        {
          "output_type": "stream",
          "name": "stdout",
          "text": [
            "The output of bigrams are [('Covid', '19'), ('19', 'has'), ('has', 'destroyed'), ('destroyed', 'peace'), ('peace', 'of'), ('of', 'mind'), ('mind', 'of'), ('of', 'people'), ('people', 'who'), ('who', \"don't\"), (\"don't\", 'like'), ('like', 'WFH')]\n"
          ]
        }
      ]
    },
    {
      "cell_type": "markdown",
      "source": [
        "Write a function which takes in a sentence and returns a list of bigrams with NLP."
      ],
      "metadata": {
        "id": "Y9xhBOvPFYML"
      }
    },
    {
      "cell_type": "markdown",
      "source": [
        "import NLTK libraries"
      ],
      "metadata": {
        "id": "w_HTEC1lFUSP"
      }
    },
    {
      "cell_type": "code",
      "source": [
        "import nltk\n",
        "nltk.download('punkt')"
      ],
      "metadata": {
        "colab": {
          "base_uri": "https://localhost:8080/"
        },
        "id": "sJYFu4yfEPuH",
        "outputId": "ac42914e-d77d-413f-84d9-ee8f8ec9f503"
      },
      "execution_count": 5,
      "outputs": [
        {
          "output_type": "stream",
          "name": "stderr",
          "text": [
            "[nltk_data] Downloading package punkt to /root/nltk_data...\n",
            "[nltk_data]   Unzipping tokenizers/punkt.zip.\n"
          ]
        },
        {
          "output_type": "execute_result",
          "data": {
            "text/plain": [
              "True"
            ]
          },
          "metadata": {},
          "execution_count": 5
        }
      ]
    },
    {
      "cell_type": "code",
      "execution_count": 12,
      "metadata": {
        "id": "KKBhUEPQEALV"
      },
      "outputs": [],
      "source": [
        "#create bigrams function\n",
        "def create_bigrams_func_with_nlp(sentence):\n",
        "    # Tokenize the sentence into words\n",
        "    words = nltk.word_tokenize(sentence)\n",
        "    # Create bigrams using the nltk bigrams function\n",
        "    bigrams = list(nltk.bigrams(words))\n",
        "    return bigrams"
      ]
    },
    {
      "cell_type": "code",
      "source": [
        "#create drive programme\n",
        "\n",
        "if __name__==\"__main__\":\n",
        "  my_input_text = \"Covid 19 has destroyed peace of mind of people who don't like WFH\"\n",
        "  bigram_ouput = create_bigrams_func_with_nlp(my_input_text)\n",
        "  # Print the output\n",
        "  print(f\"The output of bigrams are {bigram_ouput}\")\n"
      ],
      "metadata": {
        "colab": {
          "base_uri": "https://localhost:8080/"
        },
        "id": "-CSlCKd1ENoB",
        "outputId": "5516aea3-3f92-4ff3-ce99-c027b5e087cb"
      },
      "execution_count": 13,
      "outputs": [
        {
          "output_type": "stream",
          "name": "stdout",
          "text": [
            "The output of bigrams are [('Covid', '19'), ('19', 'has'), ('has', 'destroyed'), ('destroyed', 'peace'), ('peace', 'of'), ('of', 'mind'), ('mind', 'of'), ('of', 'people'), ('people', 'who'), ('who', 'do'), ('do', \"n't\"), (\"n't\", 'like'), ('like', 'WFH')]\n"
          ]
        }
      ]
    }
  ]
}