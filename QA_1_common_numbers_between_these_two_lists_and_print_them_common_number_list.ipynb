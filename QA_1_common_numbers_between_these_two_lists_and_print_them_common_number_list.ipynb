{
  "nbformat": 4,
  "nbformat_minor": 0,
  "metadata": {
    "colab": {
      "provenance": []
    },
    "kernelspec": {
      "name": "python3",
      "display_name": "Python 3"
    },
    "language_info": {
      "name": "python"
    }
  },
  "cells": [
    {
      "cell_type": "markdown",
      "source": [
        "Write optimised code to find the common numbers between these two lists and print them common number list\n"
      ],
      "metadata": {
        "id": "SeV3Ded-8c0D"
      }
    },
    {
      "cell_type": "code",
      "source": [
        "import random\n",
        "import numpy as np"
      ],
      "metadata": {
        "id": "SKt9eMrP8o1L"
      },
      "execution_count": 1,
      "outputs": []
    },
    {
      "cell_type": "code",
      "source": [
        "list_1 = random.sample(range(0,1000000), 10000)\n",
        "list_2 = random.sample(range(0,1000000), 10000)"
      ],
      "metadata": {
        "id": "p89G_bre8sO7"
      },
      "execution_count": 2,
      "outputs": []
    },
    {
      "cell_type": "code",
      "source": [
        "# See first 5 numbers\n",
        "print(list_1[:5], list_2[:5])"
      ],
      "metadata": {
        "colab": {
          "base_uri": "https://localhost:8080/"
        },
        "id": "qkRwVlpc82ix",
        "outputId": "2900ff07-8b70-4ba5-b78d-7ce72215769a"
      },
      "execution_count": 3,
      "outputs": [
        {
          "output_type": "stream",
          "name": "stdout",
          "text": [
            "[846124, 522374, 506491, 792122, 943091] [665667, 932388, 325772, 32809, 936038]\n"
          ]
        }
      ]
    },
    {
      "cell_type": "code",
      "execution_count": 8,
      "metadata": {
        "colab": {
          "base_uri": "https://localhost:8080/"
        },
        "id": "EGKxxmB471lD",
        "outputId": "fbce69a5-dded-4ee8-c47b-e5ed90afbc83"
      },
      "outputs": [
        {
          "output_type": "stream",
          "name": "stdout",
          "text": [
            "Find common element between two list: [761348, 134668, 347150, 440869, 168488, 655925, 610875, 41022, 896062, 185939, 832602, 570464, 809569, 350306, 155744, 134757, 234598, 83559, 357993, 369773, 272530, 942233, 482972, 599709, 384675, 73380, 817321, 51886, 173750, 692410, 221883, 486598, 989384, 818896, 552657, 855264, 598251, 256236, 329975, 724217, 328970, 316687, 430868, 175380, 634136, 894234, 150814, 233765, 365862, 991532, 387887, 66372, 193353, 871761, 176978, 992596, 166765, 628086, 473984, 649601, 192385, 992132, 185227, 4496, 229790, 266143, 869285, 529318, 380327, 800176, 629171, 862131, 650166, 545207, 351160, 218553, 875959, 757696, 545223, 504270, 305617, 928724, 379349, 185818, 384477, 846815, 963042, 241635, 198648, 545786, 259580, 715262] and we can also check its type and that is <class 'list'>\n"
          ]
        }
      ],
      "source": [
        "def common_number_from_list(a, b):\n",
        "    a_set_value = set(a)\n",
        "    b_set_value = set(b)\n",
        "    if (a_set_value & b_set_value):\n",
        "        common_elements = a_set_value.intersection(b_set_value)\n",
        "        print(f\"Find common element between two list: {list(common_elements)} and we can also check its type and that is {type(list(common_elements))}\")\n",
        "\n",
        "    else:\n",
        "        print(\"there is no common\")\n",
        "\n",
        "\n",
        "# driver programme\n",
        "if __name__ == \"__main__\":\n",
        "    common_number_from_list(list_1, list_2)"
      ]
    }
  ]
}