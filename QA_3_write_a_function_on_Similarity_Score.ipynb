{
  "nbformat": 4,
  "nbformat_minor": 0,
  "metadata": {
    "colab": {
      "provenance": []
    },
    "kernelspec": {
      "name": "python3",
      "display_name": "Python 3"
    },
    "language_info": {
      "name": "python"
    }
  },
  "cells": [
    {
      "cell_type": "markdown",
      "source": [
        "3) Write a function to find sentence similarities."
      ],
      "metadata": {
        "id": "65Kz988u7D4B"
      }
    },
    {
      "cell_type": "markdown",
      "source": [
        "'''Create a function which takes in two sentences as input and returns a similarity score between the two sentences based\n",
        "on the following steps/logic:\n",
        "1) Take sentence 1 as base and find common words between sentence 1 and 2\n",
        "2) Similarity_score = no. of common words/length of sentence 1. Return this from the function\n",
        "3) Remember to take care of case and remove the following punctuations from sentences- ,''\"\"./\\\n",
        "4) Test out your function on cases where there are no common words, some common words and all common words'''\n",
        "# Hint - Use libraries re and nltk. Can refer to internet for syntax but not actual solution\n",
        "sent_1 = \"My name Is Soumadiptya Chakraborty. I live in Kolkata\"\n",
        "sent_2 = \"your name is Rajesh Chakraborty, you live in Bangalore.\""
      ],
      "metadata": {
        "id": "KqNf8wIV6gNk"
      }
    },
    {
      "cell_type": "markdown",
      "source": [
        "**Installing NLTK library**"
      ],
      "metadata": {
        "id": "aR225sYlcV4F"
      }
    },
    {
      "cell_type": "code",
      "execution_count": 1,
      "metadata": {
        "colab": {
          "base_uri": "https://localhost:8080/"
        },
        "id": "G8kS7clpWPtY",
        "outputId": "ada554e8-6970-43ed-a0a2-392625154c05"
      },
      "outputs": [
        {
          "output_type": "stream",
          "name": "stdout",
          "text": [
            "Requirement already satisfied: nltk in /usr/local/lib/python3.10/dist-packages (3.8.1)\n",
            "Requirement already satisfied: click in /usr/local/lib/python3.10/dist-packages (from nltk) (8.1.7)\n",
            "Requirement already satisfied: joblib in /usr/local/lib/python3.10/dist-packages (from nltk) (1.3.2)\n",
            "Requirement already satisfied: regex>=2021.8.3 in /usr/local/lib/python3.10/dist-packages (from nltk) (2023.6.3)\n",
            "Requirement already satisfied: tqdm in /usr/local/lib/python3.10/dist-packages (from nltk) (4.66.1)\n"
          ]
        }
      ],
      "source": [
        "!pip install nltk"
      ]
    },
    {
      "cell_type": "code",
      "source": [
        "import nltk\n",
        "nltk.download('punkt')\n",
        "from nltk.corpus import stopwords\n",
        "from nltk.tokenize import word_tokenize\n"
      ],
      "metadata": {
        "colab": {
          "base_uri": "https://localhost:8080/"
        },
        "id": "W0x9_ROdWdXI",
        "outputId": "3b61e729-8dfb-476b-8546-83439a57f47f"
      },
      "execution_count": 7,
      "outputs": [
        {
          "output_type": "stream",
          "name": "stderr",
          "text": [
            "[nltk_data] Downloading package punkt to /root/nltk_data...\n",
            "[nltk_data]   Unzipping tokenizers/punkt.zip.\n"
          ]
        }
      ]
    },
    {
      "cell_type": "code",
      "source": [
        "sent_1 = \"My name Is Soumadiptya Chakraborty. I live in Kolkata\"\n",
        "sent_2 = \"your name is Rajesh Chakraborty, you live in Bangalore.\"\n",
        "sent_1 = re.sub(r'[,\\'.\"/\\\\]', '', sent_1).lower()\n",
        "sent_2 = re.sub(r'[,\\'.\"/\\\\]', '', sent_2).lower()\n"
      ],
      "metadata": {
        "id": "VHoayf7RWsDL"
      },
      "execution_count": 20,
      "outputs": []
    },
    {
      "cell_type": "code",
      "source": [
        "nltk.download('stopwords')"
      ],
      "metadata": {
        "colab": {
          "base_uri": "https://localhost:8080/"
        },
        "id": "Qctmivi1YC6v",
        "outputId": "2d9305c8-3d6d-458d-f3ab-348b5774799c"
      },
      "execution_count": 10,
      "outputs": [
        {
          "output_type": "stream",
          "name": "stderr",
          "text": [
            "[nltk_data] Downloading package stopwords to /root/nltk_data...\n",
            "[nltk_data]   Unzipping corpora/stopwords.zip.\n"
          ]
        },
        {
          "output_type": "execute_result",
          "data": {
            "text/plain": [
              "True"
            ]
          },
          "metadata": {},
          "execution_count": 10
        }
      ]
    },
    {
      "cell_type": "code",
      "source": [
        "#now creating the stopword\n",
        "sw=stopwords.words('english')\n",
        "print(sw)"
      ],
      "metadata": {
        "colab": {
          "base_uri": "https://localhost:8080/"
        },
        "id": "i6v_yRBZXxFb",
        "outputId": "d694f9b4-ed38-48b5-fc1b-9cebe011efc3"
      },
      "execution_count": 12,
      "outputs": [
        {
          "output_type": "stream",
          "name": "stdout",
          "text": [
            "['i', 'me', 'my', 'myself', 'we', 'our', 'ours', 'ourselves', 'you', \"you're\", \"you've\", \"you'll\", \"you'd\", 'your', 'yours', 'yourself', 'yourselves', 'he', 'him', 'his', 'himself', 'she', \"she's\", 'her', 'hers', 'herself', 'it', \"it's\", 'its', 'itself', 'they', 'them', 'their', 'theirs', 'themselves', 'what', 'which', 'who', 'whom', 'this', 'that', \"that'll\", 'these', 'those', 'am', 'is', 'are', 'was', 'were', 'be', 'been', 'being', 'have', 'has', 'had', 'having', 'do', 'does', 'did', 'doing', 'a', 'an', 'the', 'and', 'but', 'if', 'or', 'because', 'as', 'until', 'while', 'of', 'at', 'by', 'for', 'with', 'about', 'against', 'between', 'into', 'through', 'during', 'before', 'after', 'above', 'below', 'to', 'from', 'up', 'down', 'in', 'out', 'on', 'off', 'over', 'under', 'again', 'further', 'then', 'once', 'here', 'there', 'when', 'where', 'why', 'how', 'all', 'any', 'both', 'each', 'few', 'more', 'most', 'other', 'some', 'such', 'no', 'nor', 'not', 'only', 'own', 'same', 'so', 'than', 'too', 'very', 's', 't', 'can', 'will', 'just', 'don', \"don't\", 'should', \"should've\", 'now', 'd', 'll', 'm', 'o', 're', 've', 'y', 'ain', 'aren', \"aren't\", 'couldn', \"couldn't\", 'didn', \"didn't\", 'doesn', \"doesn't\", 'hadn', \"hadn't\", 'hasn', \"hasn't\", 'haven', \"haven't\", 'isn', \"isn't\", 'ma', 'mightn', \"mightn't\", 'mustn', \"mustn't\", 'needn', \"needn't\", 'shan', \"shan't\", 'shouldn', \"shouldn't\", 'wasn', \"wasn't\", 'weren', \"weren't\", 'won', \"won't\", 'wouldn', \"wouldn't\"]\n"
          ]
        }
      ]
    },
    {
      "cell_type": "code",
      "source": [
        "import re"
      ],
      "metadata": {
        "id": "iMrkDzh2a52E"
      },
      "execution_count": 18,
      "outputs": []
    },
    {
      "cell_type": "markdown",
      "source": [
        "**Similarity Score Calculation**"
      ],
      "metadata": {
        "id": "vkV69tFqcdrP"
      }
    },
    {
      "cell_type": "code",
      "source": [
        "def calculate_similarity_score_from_sentence(sent_1, sent_2):\n",
        "    # Remove punctuation and convert to lowercase\n",
        "    sent_1 = re.sub(r'[,\\'.\"/\\\\]', '', sent_1).lower()\n",
        "    sent_2 = re.sub(r'[,\\'.\"/\\\\]', '', sent_2).lower()\n",
        "\n",
        "    # Tokenize the sentences and remove stopwords\n",
        "    tokens_1 = [word for word in word_tokenize(sent_1) if word not in sw]\n",
        "    tokens_2 = [word for word in word_tokenize(sent_2) if word not in sw]\n",
        "\n",
        "    # Find common words between the two sentences\n",
        "    common_words = set(tokens_1) & set(tokens_2)\n",
        "\n",
        "    # Calculate the similarity score of two sentence\n",
        "    similarity_score = len(common_words) / len(tokens_1)\n",
        "\n",
        "    return similarity_score\n",
        "\n"
      ],
      "metadata": {
        "colab": {
          "base_uri": "https://localhost:8080/"
        },
        "id": "-oWzzCyTYmoK",
        "outputId": "6c81d45e-9736-4677-ff49-2a8ab690d8d9"
      },
      "execution_count": 22,
      "outputs": [
        {
          "output_type": "stream",
          "name": "stdout",
          "text": [
            "The similarity score of two sentences is: 0.6\n"
          ]
        }
      ]
    },
    {
      "cell_type": "code",
      "source": [
        "#Execute the driver function\n",
        "if __name__==\"__main__\":\n",
        "  # now testing the value\n",
        "  sent_1 = \"My name Is Soumadiptya Chakraborty. I live in Kolkata\"\n",
        "  sent_2 = \"your name is Rajesh Chakraborty, you live in Bangalore.\"\n",
        "  score = calculate_similarity_score_from_sentence(sent_1, sent_2)\n",
        "  print(f\"The similarity score of two sentences is: {score}\")\n"
      ],
      "metadata": {
        "colab": {
          "base_uri": "https://localhost:8080/"
        },
        "id": "XWqQBUKScKqX",
        "outputId": "b0539457-869f-4400-c325-08e80f8add2a"
      },
      "execution_count": 23,
      "outputs": [
        {
          "output_type": "stream",
          "name": "stdout",
          "text": [
            "The similarity score of two sentences is: 0.6\n"
          ]
        }
      ]
    }
  ]
}