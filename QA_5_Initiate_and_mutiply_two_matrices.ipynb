{
  "nbformat": 4,
  "nbformat_minor": 0,
  "metadata": {
    "colab": {
      "provenance": []
    },
    "kernelspec": {
      "name": "python3",
      "display_name": "Python 3"
    },
    "language_info": {
      "name": "python"
    }
  },
  "cells": [
    {
      "cell_type": "markdown",
      "source": [
        "Initiate two matrices of 4*3 and 3*4 resepctively with any numbers you wish.\n",
        "\n",
        "Write a function which takes as input\n",
        "the two matrices, perfroms matrix multiplication and returns the resultant 4*4 matrix. Don't use the numpy functions for matrix\n",
        "\n",
        "multiplication. You can however use numpy to initialize the matrices."
      ],
      "metadata": {
        "id": "EcLnshERJxO7"
      }
    },
    {
      "cell_type": "code",
      "source": [
        "import numpy as np  # Only using numpy to initialize matrices"
      ],
      "metadata": {
        "id": "-6Q3RfzqIfzk"
      },
      "execution_count": 1,
      "outputs": []
    },
    {
      "cell_type": "code",
      "execution_count": 4,
      "metadata": {
        "id": "arOe0hzSIKvL"
      },
      "outputs": [],
      "source": [
        "def matrices_initializer():\n",
        "    # Initialize two matrices with random numbers\n",
        "    matrix1 = np.random.rand(4, 3)\n",
        "    matrix2 = np.random.rand(3, 4)\n",
        "    return matrix1, matrix2\n",
        "\n",
        "def matrix_multiply_calculation(matrix1, matrix2):\n",
        "    if matrix1.shape[1] != matrix2.shape[0]:\n",
        "        raise ValueError(\"Matrix dimensions are not compatible for multiplication\")\n",
        "\n",
        "    # Initialize the result matrix with zeros\n",
        "    result = np.zeros((matrix1.shape[0], matrix2.shape[1]))\n",
        "\n",
        "    # Perform matrix multiplication\n",
        "    for i in range(matrix1.shape[0]):\n",
        "        for j in range(matrix2.shape[1]):\n",
        "            for k in range(matrix1.shape[1]):\n",
        "                result[i, j] += matrix1[i, k] * matrix2[k, j]\n",
        "\n",
        "    return result"
      ]
    },
    {
      "cell_type": "code",
      "source": [
        "#creating the drive programme\n",
        "if __name__==\"__main__\":\n",
        "  # Initialize the matrices\n",
        "  matrix1, matrix2 = matrices_initializer()\n",
        "  # Perform matrix multiplication\n",
        "  result_matrix = matrix_multiply_calculation(matrix1, matrix2)\n",
        "  # Print the result matrix\n",
        "  print(f\"the matrix multiplication output is {result_matrix} and its type is {type(result_matrix)}\")"
      ],
      "metadata": {
        "colab": {
          "base_uri": "https://localhost:8080/"
        },
        "id": "3PIqZGiQIztr",
        "outputId": "db463815-eedb-451f-ebaa-b0b5d3603e9e"
      },
      "execution_count": 6,
      "outputs": [
        {
          "output_type": "stream",
          "name": "stdout",
          "text": [
            "the matrix multiplication output is [[0.80511297 0.8759565  0.89066297 1.24382157]\n",
            " [0.36225529 0.15848753 0.14555884 0.23141129]\n",
            " [0.72262129 0.8577292  0.89728646 1.26352789]\n",
            " [1.34538307 0.93169829 0.96654309 1.46391785]] and its type is <class 'numpy.ndarray'>\n"
          ]
        }
      ]
    }
  ]
}