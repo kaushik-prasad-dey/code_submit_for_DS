{
  "nbformat": 4,
  "nbformat_minor": 0,
  "metadata": {
    "colab": {
      "provenance": []
    },
    "kernelspec": {
      "name": "python3",
      "display_name": "Python 3"
    },
    "language_info": {
      "name": "python"
    }
  },
  "cells": [
    {
      "cell_type": "markdown",
      "source": [
        "'''A list has mixed set of numbers and strings. Write a function which returns-\n",
        "1) Upper case strings in case the input element is a list\n",
        "2) The same number in case the input is a number\n",
        "Use try except to do this instead of an if condition\n",
        "Example Input - list_1 = [1, \"apple\", \"Data Science\", 100, 200, \"emma\"]\n",
        "Example Output- list_1_output = [1, \"APPLE\", \"DATA SCIENCE\", 100, 200, \"EMMA\"]'''\n",
        "list_1 = [1, \"apple\", \"Data Science\", 100, 200, \"emma\"]"
      ],
      "metadata": {
        "id": "y4Q1cIOiBsvQ"
      }
    },
    {
      "cell_type": "code",
      "execution_count": 4,
      "metadata": {
        "id": "hWJBX064BsDC"
      },
      "outputs": [],
      "source": [
        "def process_output_list(input_list_given):\n",
        "    #taken one empty list\n",
        "    output_list = []\n",
        "    for item in input_list_given:\n",
        "        try:\n",
        "            item = item.upper()\n",
        "        except AttributeError:\n",
        "            pass\n",
        "        #now append the item here\n",
        "        output_list.append(item)\n",
        "    return output_list\n",
        "\n"
      ]
    },
    {
      "cell_type": "code",
      "source": [
        "#call the driver programme\n",
        "if __name__==\"__main__\":\n",
        "  my_given_list = [1, \"apple\", \"Data Science\", 100, 200, \"emma\"]\n",
        "  list_1_output = process_output_list(my_given_list)\n",
        "  print(f\"the output list is {list_1_output}\")\n"
      ],
      "metadata": {
        "colab": {
          "base_uri": "https://localhost:8080/"
        },
        "id": "Siw-m-ICCFXx",
        "outputId": "b084a58e-035d-4a8e-a949-fc6392861275"
      },
      "execution_count": 5,
      "outputs": [
        {
          "output_type": "stream",
          "name": "stdout",
          "text": [
            "the output list is [1, 'APPLE', 'DATA SCIENCE', 100, 200, 'EMMA']\n"
          ]
        }
      ]
    }
  ]
}